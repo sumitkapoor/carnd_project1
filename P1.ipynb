{
 "cells": [
  {
   "cell_type": "markdown",
   "metadata": {
    "deletable": true,
    "editable": true
   },
   "source": [
    "# Self-Driving Car Engineer Nanodegree\n",
    "\n",
    "\n",
    "## Project: **Finding Lane Lines on the Road** \n",
    "***\n",
    "In this project, you will use the tools you learned about in the lesson to identify lane lines on the road.  You can develop your pipeline on a series of individual images, and later apply the result to a video stream (really just a series of images). Check out the video clip \"raw-lines-example.mp4\" (also contained in this repository) to see what the output should look like after using the helper functions below. \n",
    "\n",
    "Once you have a result that looks roughly like \"raw-lines-example.mp4\", you'll need to get creative and try to average and/or extrapolate the line segments you've detected to map out the full extent of the lane lines.  You can see an example of the result you're going for in the video \"P1_example.mp4\".  Ultimately, you would like to draw just one line for the left side of the lane, and one for the right.\n",
    "\n",
    "In addition to implementing code, there is a brief writeup to complete. The writeup should be completed in a separate file, which can be either a markdown file or a pdf document. There is a [write up template](https://github.com/udacity/CarND-LaneLines-P1/blob/master/writeup_template.md) that can be used to guide the writing process. Completing both the code in the Ipython notebook and the writeup template will cover all of the [rubric points](https://review.udacity.com/#!/rubrics/322/view) for this project.\n",
    "\n",
    "---\n",
    "Let's have a look at our first image called 'test_images/solidWhiteRight.jpg'.  Run the 2 cells below (hit Shift-Enter or the \"play\" button above) to display the image.\n",
    "\n",
    "**Note: If, at any point, you encounter frozen display windows or other confounding issues, you can always start again with a clean slate by going to the \"Kernel\" menu above and selecting \"Restart & Clear Output\".**\n",
    "\n",
    "---"
   ]
  },
  {
   "cell_type": "markdown",
   "metadata": {
    "deletable": true,
    "editable": true
   },
   "source": [
    "**The tools you have are color selection, region of interest selection, grayscaling, Gaussian smoothing, Canny Edge Detection and Hough Tranform line detection.  You  are also free to explore and try other techniques that were not presented in the lesson.  Your goal is piece together a pipeline to detect the line segments in the image, then average/extrapolate them and draw them onto the image for display (as below).  Once you have a working pipeline, try it out on the video stream below.**\n",
    "\n",
    "---\n",
    "\n",
    "<figure>\n",
    " <img src=\"line-segments-example.jpg\" width=\"380\" alt=\"Combined Image\" />\n",
    " <figcaption>\n",
    " <p></p> \n",
    " <p style=\"text-align: center;\"> Your output should look something like this (above) after detecting line segments using the helper functions below </p> \n",
    " </figcaption>\n",
    "</figure>\n",
    " <p></p> \n",
    "<figure>\n",
    " <img src=\"laneLines_thirdPass.jpg\" width=\"380\" alt=\"Combined Image\" />\n",
    " <figcaption>\n",
    " <p></p> \n",
    " <p style=\"text-align: center;\"> Your goal is to connect/average/extrapolate line segments to get output like this</p> \n",
    " </figcaption>\n",
    "</figure>"
   ]
  },
  {
   "cell_type": "markdown",
   "metadata": {
    "deletable": true,
    "editable": true
   },
   "source": [
    "**Run the cell below to import some packages.  If you get an `import error` for a package you've already installed, try changing your kernel (select the Kernel menu above --> Change Kernel).  Still have problems?  Try relaunching Jupyter Notebook from the terminal prompt.  Also, see [this forum post](https://carnd-forums.udacity.com/cq/viewquestion.action?spaceKey=CAR&id=29496372&questionTitle=finding-lanes---import-cv2-fails-even-though-python-in-the-terminal-window-has-no-problem-with-import-cv2) for more troubleshooting tips.**  "
   ]
  },
  {
   "cell_type": "markdown",
   "metadata": {
    "deletable": true,
    "editable": true
   },
   "source": [
    "## Import Packages"
   ]
  },
  {
   "cell_type": "code",
   "execution_count": null,
   "metadata": {
    "collapsed": false,
    "deletable": true,
    "editable": true
   },
   "outputs": [],
   "source": [
    "#importing some useful packages\n",
    "import matplotlib.pyplot as plt\n",
    "import matplotlib.image as mpimg\n",
    "import numpy as np\n",
    "import cv2\n",
    "%matplotlib inline"
   ]
  },
  {
   "cell_type": "markdown",
   "metadata": {
    "deletable": true,
    "editable": true
   },
   "source": [
    "## Read in an Image"
   ]
  },
  {
   "cell_type": "code",
   "execution_count": null,
   "metadata": {
    "collapsed": false,
    "deletable": true,
    "editable": true
   },
   "outputs": [],
   "source": [
    "#reading in an image\n",
    "image = mpimg.imread('test_images/solidWhiteRight.jpg')\n",
    "\n",
    "#printing out some stats and plotting\n",
    "print('This image is:', type(image), 'with dimesions:', image.shape)\n",
    "plt.imshow(image)  # if you wanted to show a single color channel image called 'gray', for example, call as plt.imshow(gray, cmap='gray')"
   ]
  },
  {
   "cell_type": "markdown",
   "metadata": {
    "deletable": true,
    "editable": true
   },
   "source": [
    "## Ideas for Lane Detection Pipeline"
   ]
  },
  {
   "cell_type": "markdown",
   "metadata": {
    "deletable": true,
    "editable": true
   },
   "source": [
    "**Some OpenCV functions (beyond those introduced in the lesson) that might be useful for this project are:**\n",
    "\n",
    "`cv2.inRange()` for color selection  \n",
    "`cv2.fillPoly()` for regions selection  \n",
    "`cv2.line()` to draw lines on an image given endpoints  \n",
    "`cv2.addWeighted()` to coadd / overlay two images\n",
    "`cv2.cvtColor()` to grayscale or change color\n",
    "`cv2.imwrite()` to output images to file  \n",
    "`cv2.bitwise_and()` to apply a mask to an image\n",
    "\n",
    "**Check out the OpenCV documentation to learn about these and discover even more awesome functionality!**"
   ]
  },
  {
   "cell_type": "markdown",
   "metadata": {
    "deletable": true,
    "editable": true
   },
   "source": [
    "## Helper Functions"
   ]
  },
  {
   "cell_type": "markdown",
   "metadata": {
    "deletable": true,
    "editable": true
   },
   "source": [
    "Below are some helper functions to help get you started. They should look familiar from the lesson!"
   ]
  },
  {
   "cell_type": "code",
   "execution_count": null,
   "metadata": {
    "collapsed": false,
    "deletable": true,
    "editable": true
   },
   "outputs": [],
   "source": [
    "\"\"\"\n",
    "The following class provides interfaces to set and get \n",
    "the globals defaults for the execution of the project.\n",
    "\"\"\"\n",
    "class Globals(object):\n",
    "\n",
    "    def __init__(self):\n",
    "        \"\"\"\n",
    "        Initialize Globals. All default values are set.\n",
    "        \"\"\"\n",
    "        #\n",
    "        # Setting the golden ration as the default ration when\n",
    "        # defining the region\n",
    "        #\n",
    "        self.ratio = 8/ 5.0;\n",
    "        self.reset()\n",
    "                \n",
    "    def reset(self):\n",
    "        \"\"\"\n",
    "        Resets the global defauls for the class\n",
    "        \"\"\"\n",
    "        self.debug = False\n",
    "        self.initialize_lists()\n",
    "        self.set_hough_line_thresholds()\n",
    "        self.set_canny_thresholds()\n",
    "        self.set_slopes()\n",
    "        self.set_history_limit()\n",
    "        self.set_line_thickness()\n",
    "        self.set_extrapolate()\n",
    "        self.set_line_color()\n",
    "        self._set_cvt_color()\n",
    "        \n",
    "    def set_debug(self):\n",
    "        \"\"\"\n",
    "        Sets debugging on for the session\n",
    "        \"\"\"\n",
    "        self.debug = True\n",
    "        \n",
    "    def is_debug(self):\n",
    "        \"\"\"\n",
    "        Returns boolean, True is debug else False\n",
    "        \"\"\"\n",
    "        return self.debug\n",
    "        \n",
    "    def initialize_lists(self):\n",
    "        \"\"\"\n",
    "        Initialize global lists. These lists maintain to slopes,\n",
    "        intercepts, max and min y values across video frames.\n",
    "        \"\"\"\n",
    "        self.right_m_list = []\n",
    "        self.left_m_list = []\n",
    "        self.right_c_list = []\n",
    "        self.left_c_list = []\n",
    "        self.min_y_list = []\n",
    "        self.max_y_list = []\n",
    "\n",
    "    def set_line_color(self, color=[255, 0, 0]):\n",
    "        \"\"\"\n",
    "        Set the color for the line that needs to be generated\n",
    "        \"\"\"\n",
    "        self._color = color\n",
    "\n",
    "    def set_hough_line_thresholds(self, rho=1, theta=np.pi/180,\n",
    "                                  threshold=30, min_line_length=80, max_line_gap=110):\n",
    "        \"\"\"\n",
    "        Define the Hough transform parameters\n",
    "        \"\"\"\n",
    "        self._rho = rho\n",
    "        self._theta = theta\n",
    "        self._threshold = threshold\n",
    "        self._min_line_length = min_line_length\n",
    "        self._max_line_gap = max_line_gap\n",
    "        \n",
    "    def set_canny_thresholds(self, kernel_size=5, low_threshold=50, high_threshold=150):\n",
    "        \"\"\"\n",
    "        Define the Canny parameters\n",
    "        \"\"\"\n",
    "        self._kernel_size = kernel_size\n",
    "        self._low_threshold = low_threshold\n",
    "        self._high_threshold = high_threshold\n",
    "        \n",
    "    def set_slopes(self, slope_max=0.9, slope_min=0.5):\n",
    "        \"\"\"\n",
    "        Set the slope thresholds to filter out unwanted lines\n",
    "        \"\"\"\n",
    "        self._slope_max = slope_max\n",
    "        self._slope_min = slope_min\n",
    "        \n",
    "    def set_history_limit(self, history=20):\n",
    "        \"\"\"\n",
    "        Set the limit upto which historical data should be used\n",
    "        to generate current averages.\n",
    "        \"\"\"\n",
    "        self._history = history\n",
    "        \n",
    "    def set_line_thickness(self, thickness=10):\n",
    "        \"\"\"\n",
    "        Set the thickness of the lines that woul dbe drawn over\n",
    "        lanes.\n",
    "        \"\"\"\n",
    "        self._thickness = thickness\n",
    "        \n",
    "    def set_extrapolate(self, extrapolate=True):\n",
    "        \"\"\"\n",
    "        Set extrapolate to generate lines based on the slope and intercepts\n",
    "        of the current and historical lanes. The lines will extrapolate\n",
    "        over the detected lanes.\n",
    "        Set to False to view hough lines.\n",
    "        \"\"\"\n",
    "        self._extrapolate = extrapolate\n",
    "        if self._extrapolate == True:\n",
    "            self.set_line_thickness()\n",
    "            return\n",
    "        \n",
    "        self.set_line_thickness(thickness=3)\n",
    "        \n",
    "    def _set_cvt_color(self, cvt_color = cv2.COLOR_RGB2Lab):\n",
    "        \"\"\"\n",
    "        post trying through all the colors, found which works\n",
    "        across the images and videos\n",
    "\n",
    "        cv2.COLOR_RBG2HSV\n",
    "        cv2.COLOR_RBG2HLS\n",
    "        cv2.COLOR_RGB2\n",
    "        cv2.COLOR_YCrCb\n",
    "        cv2.COLOR_Luv\n",
    "        cv2.COLOR_Lub\n",
    "        \"\"\"\n",
    "        self._cvt_color = cvt_color\n",
    "    \n",
    "    def get_line_color(self):\n",
    "        \"\"\" Get the current color that needs to be set \"\"\"\n",
    "        return self._color\n",
    "\n",
    "    def get_hough_line_thresholds(self):\n",
    "        \"\"\" \n",
    "        Get the hough transform parameters. It returns a tuple of:\n",
    "            rho, theta, threshold, min_line_length, max_line_gap\n",
    "        \"\"\"\n",
    "        return (self._rho, self._theta, self._threshold, self._min_line_length, self._max_line_gap)\n",
    "    \n",
    "    def get_canny_thresholds(self):\n",
    "        \"\"\" \n",
    "        Get canny parameters. It returns a tuple of:\n",
    "            kernel_size, low_threshold, high_threshold\n",
    "        \"\"\"\n",
    "        return (self._kernel_size, self._low_threshold, self._high_threshold)\n",
    "    \n",
    "    def get_slopes(self):\n",
    "        \"\"\" \n",
    "        Get slope thresholds. It returns a tuple of:\n",
    "            slope_max, slope_min\n",
    "        NOTE : for left lane it should be negative\n",
    "        \"\"\"\n",
    "        return (self._slope_max, self._slope_min)\n",
    "    \n",
    "    def get_history_limit(self):\n",
    "        \"\"\" Get the number of historical points required for averaging \"\"\"\n",
    "        return self._history\n",
    "    \n",
    "    def get_line_thickness(self):\n",
    "        \"\"\" Get the thickness of the line \"\"\"\n",
    "        return self._thickness\n",
    "    \n",
    "    def should_extrapolate(self):\n",
    "        \"\"\" Returns True to extrapolate lines on lanes else False \"\"\"\n",
    "        return self._extrapolate\n",
    "    \n",
    "    def get_cvt_color(self):\n",
    "        return self._cvt_color\n",
    "    \n",
    "prj_globals = Globals()"
   ]
  },
  {
   "cell_type": "code",
   "execution_count": null,
   "metadata": {
    "collapsed": false,
    "deletable": true,
    "editable": true
   },
   "outputs": [],
   "source": [
    "import math\n",
    "\n",
    "def grayscale(img):\n",
    "    \"\"\"Applies the Grayscale transform\n",
    "    This will return an image with only one color channel\n",
    "    but NOTE: to see the returned image as grayscale\n",
    "    (assuming your grayscaled image is called 'gray')\n",
    "    you should call plt.imshow(gray, cmap='gray')\"\"\"\n",
    "    return cv2.cvtColor(img, prj_globals.get_cvt_color())\n",
    "    # return cv2.cvtColor(img, cv2.COLOR_RGB2GRAY)\n",
    "    # Or use BGR2GRAY if you read an image with cv2.imread()\n",
    "    # return cv2.cvtColor(img, cv2.COLOR_BGR2GRAY)\n",
    "    \n",
    "def canny(img, low_threshold, high_threshold):\n",
    "    \"\"\"Applies the Canny transform\"\"\"\n",
    "    return cv2.Canny(img, low_threshold, high_threshold)\n",
    "\n",
    "def gaussian_blur(img, kernel_size):\n",
    "    \"\"\"Applies a Gaussian Noise kernel\"\"\"\n",
    "    return cv2.GaussianBlur(img, (kernel_size, kernel_size), 0)\n",
    "\n",
    "def region_of_interest(img, vertices):\n",
    "    \"\"\"\n",
    "    Applies an image mask.\n",
    "    \n",
    "    Only keeps the region of the image defined by the polygon\n",
    "    formed from `vertices`. The rest of the image is set to black.\n",
    "    \"\"\"\n",
    "    #defining a blank mask to start with\n",
    "    mask = np.zeros_like(img)   \n",
    "    \n",
    "    #defining a 3 channel or 1 channel color to fill the mask with depending on the input image\n",
    "    if len(img.shape) > 2:\n",
    "        channel_count = img.shape[2]  # i.e. 3 or 4 depending on your image\n",
    "        ignore_mask_color = (255,) * channel_count\n",
    "    else:\n",
    "        ignore_mask_color = 255\n",
    "        \n",
    "    #filling pixels inside the polygon defined by \"vertices\" with the fill color    \n",
    "    cv2.fillPoly(mask, vertices, ignore_mask_color)\n",
    "    \n",
    "    #returning the image only where mask pixels are nonzero\n",
    "    masked_image = cv2.bitwise_and(img, mask)\n",
    "    return masked_image\n",
    "\n",
    "def extrapolate_lines(lines):\n",
    "    try:\n",
    "        # get all the x points for the line\n",
    "        x = np.reshape(lines[:, [0, 2]], (1, len(lines) * 2))[0]\n",
    "        # get all the y points for the line\n",
    "        y = np.reshape(lines[:, [1, 3]], (1, len(lines) * 2))[0]\n",
    "    \n",
    "        # https://docs.scipy.org/doc/numpy/reference/generated/numpy.linalg.lstsq.html\n",
    "        # The equation for a line is y = mx + c\n",
    "        # we can rewrite the equation as y = Ap, where A = [[x 1]] and p = [[m], [c]]\n",
    "        # and then use lstsq to get the value of p\n",
    "        A = np.vstack([x, np.ones(len(x))]).T\n",
    "        m, c = np.linalg.lstsq(A, y)[0]\n",
    "\n",
    "        x = np.array(x)\n",
    "        # using the the value of m and c get all the values of y\n",
    "        y = np.array(x * m + c)\n",
    "    except:\n",
    "        print (x, y)\n",
    "\n",
    "    return x, y, m, c\n",
    "\n",
    "def draw_lines(img, lines):\n",
    "    \"\"\"\n",
    "    NOTE: this is the function you might want to use as a starting point once you want to \n",
    "    average/extrapolate the line segments you detect to map out the full\n",
    "    extent of the lane (going from the result shown in raw-lines-example.mp4\n",
    "    to that shown in P1_example.mp4).  \n",
    "    \n",
    "    Think about things like separating line segments by their \n",
    "    slope ((y2-y1)/(x2-x1)) to decide which segments are part of the left\n",
    "    line vs. the right line.  Then, you can average the position of each of \n",
    "    the lines and extrapolate to the top and bottom of the lane.\n",
    "    \n",
    "    This function draws `lines` with `color` and `thickness`.    \n",
    "    Lines are drawn on the image inplace (mutates the image).\n",
    "    If you want to make the lines semi-transparent, think about combining\n",
    "    this function with the weighted_img() function below\n",
    "    \"\"\"\n",
    "    \n",
    "    # get the color for the line\n",
    "    color = prj_globals.get_line_color()\n",
    "    \n",
    "    # get the thickness for the line\n",
    "    thickness = prj_globals.get_line_thickness()\n",
    "    \n",
    "    # get history limits upto which the past values should be averaged\n",
    "    history = prj_globals.get_history_limit()\n",
    "\n",
    "    # get all the slopes for the line segments\n",
    "    slopes = np.apply_along_axis(lambda line: (line[3] - line[1]) / (line[2] - line[0]), 2, lines)\n",
    "    if prj_globals.is_debug():\n",
    "        print (slopes)\n",
    "\n",
    "    # get thresholds for the slope\n",
    "    slope_max, slope_min = prj_globals.get_slopes()\n",
    "    \n",
    "    # the line on the right will have slope greater than 0\n",
    "    right_lines = lines[np.where((slopes >= slope_min) & (slopes <= slope_max))]\n",
    "    \n",
    "    # the line on the left will have slope less than 0\n",
    "    left_lines = lines[np.where((slopes <= -slope_min) & (slopes >= -slope_max))]\n",
    "    \n",
    "    if len(left_lines) == 0 or len(right_lines) == 0:\n",
    "        return\n",
    "\n",
    "    if not prj_globals.should_extrapolate():\n",
    "        for line in np.array(np.concatenate((left_lines, right_lines), axis=0)):\n",
    "            for x1,y1,x2,y2 in [line]:\n",
    "                cv2.line(img, (x1, y1), (x2, y2), color, thickness)\n",
    "        return\n",
    "    \n",
    "    # Extraploate lines to the the x, y, m and c values for the lines. \n",
    "    # Here m is the slope and c is the y intercept\n",
    "    left_x, left_y, left_m, left_c = extrapolate_lines(left_lines)\n",
    "    right_x, right_y, right_m, right_c = extrapolate_lines(right_lines)\n",
    " \n",
    "    # append the current slope and intercept for left lane in globals\n",
    "    prj_globals.left_m_list.append(left_m)\n",
    "    prj_globals.left_c_list.append(left_c)\n",
    "    \n",
    "    # get the average slope and intercept for left line\n",
    "    avg_left_m = np.mean(prj_globals.left_m_list[-history:])\n",
    "    avg_left_c = np.mean(prj_globals.left_c_list[-history:])\n",
    "    \n",
    "    # append the current slope and intercept for right lane in globals\n",
    "    prj_globals.right_m_list.append(right_m)\n",
    "    prj_globals.right_c_list.append(right_c)\n",
    "    \n",
    "    # get the average slope and intercept for right line\n",
    "    avg_right_m = np.mean(prj_globals.right_m_list[-history:])\n",
    "    avg_right_c = np.mean(prj_globals.right_c_list[-history:])\n",
    "    \n",
    "    if prj_globals.is_debug():\n",
    "        print(\" avg_left_m = \", avg_left_m, \" avg_right_m = \", avg_right_m)\n",
    "        print(\" avg_left_c = \", avg_left_c , \" avg_right_c=\", avg_right_c)\n",
    "    \n",
    "    # Get the minimum value for y\n",
    "    min_y = np.min([np.min(left_y), np.min(right_y)])\n",
    "    \n",
    "    # average out the minimum y values\n",
    "    prj_globals.min_y_list.append(min_y)\n",
    "    avg_min_y = np.mean(prj_globals.min_y_list[-history:])\n",
    "    \n",
    "    # Using the minimum value of y get the top right and top left points for\n",
    "    # the lines , x = (y - c)/ m\n",
    "    top_right_point = np.array([((avg_min_y - avg_right_c) / avg_right_m), avg_min_y], dtype=np.int32)\n",
    "    top_left_point = np.array([((avg_min_y - avg_left_c) / avg_left_m), avg_min_y], dtype=np.int32)\n",
    "\n",
    "    # Now get the maximum value for y\n",
    "    max_y = np.max([np.max(right_y), np.max(left_y)])\n",
    "    \n",
    "    # average out the maximum y values\n",
    "    prj_globals.max_y_list.append(max_y)\n",
    "    avg_max_y = np.mean(prj_globals.max_y_list[-history:])\n",
    "    \n",
    "    if prj_globals.is_debug():\n",
    "        print(\"min left_y =\", np.min(left_y), \" min right_y =\", np.min(right_y), \" min y =\", min_y, \" avg min_y =\", avg_min_y)\n",
    "        print(\"max left_y =\", np.max(left_y), \" max right_y =\", np.max(right_y), \" max y =\", max_y, \" avg_max_y = \", avg_max_y)\n",
    "    \n",
    "    # using the maximum y value get the bottom left and bottom right points. x = (y - c)/ m\n",
    "    bottom_left_point = np.array([((avg_max_y - avg_left_c) / avg_left_m), avg_max_y], dtype=np.int32)\n",
    "    bottom_right_point = np.array([((avg_max_y - avg_right_c) / avg_right_m), avg_max_y], dtype=np.int32)\n",
    "\n",
    "    # Draw the lines.\n",
    "    cv2.line(img, (bottom_left_point[0], bottom_left_point[1]), (top_left_point[0], top_left_point[1]), color, thickness)\n",
    "    cv2.line(img, (bottom_right_point[0], bottom_right_point[1]), (top_right_point[0], top_right_point[1]), color, thickness)\n",
    "    \n",
    "\n",
    "def hough_lines(img, rho, theta, threshold, min_line_len, max_line_gap):\n",
    "    \"\"\"\n",
    "    `img` should be the output of a Canny transform.\n",
    "        \n",
    "    Returns an image with hough lines drawn.\n",
    "    \"\"\"\n",
    "    lines = cv2.HoughLinesP(img, rho, theta, threshold, np.array([]), minLineLength=min_line_len, maxLineGap=max_line_gap)\n",
    "    line_img = np.zeros((img.shape[0], img.shape[1], 3), dtype=np.uint8)\n",
    "    draw_lines(line_img, lines)\n",
    "    return line_img\n",
    "\n",
    "# Python 3 has support for cool math symbols.\n",
    "\n",
    "def weighted_img(img, initial_img, α=0.8, β=1., λ=0.):\n",
    "    \"\"\"\n",
    "    `img` is the output of the hough_lines(), An image with lines drawn on it.\n",
    "    Should be a blank image (all black) with lines drawn on it.\n",
    "    \n",
    "    `initial_img` should be the image before any processing.\n",
    "    \n",
    "    The result image is computed as follows:\n",
    "    \n",
    "    initial_img * α + img * β + λ\n",
    "    NOTE: initial_img and img must be the same shape!\n",
    "    \"\"\"\n",
    "    return cv2.addWeighted(initial_img, α, img, β, λ)"
   ]
  },
  {
   "cell_type": "markdown",
   "metadata": {
    "deletable": true,
    "editable": true
   },
   "source": [
    "## Test Images\n",
    "\n",
    "Build your pipeline to work on the images in the directory \"test_images\"  \n",
    "**You should make sure your pipeline works well on these images before you try the videos.**"
   ]
  },
  {
   "cell_type": "code",
   "execution_count": null,
   "metadata": {
    "collapsed": false,
    "deletable": true,
    "editable": true
   },
   "outputs": [],
   "source": [
    "import os\n",
    "os.listdir(\"test_images/\")"
   ]
  },
  {
   "cell_type": "markdown",
   "metadata": {
    "deletable": true,
    "editable": true
   },
   "source": [
    "## Build a Lane Finding Pipeline\n",
    "\n"
   ]
  },
  {
   "cell_type": "markdown",
   "metadata": {
    "deletable": true,
    "editable": true
   },
   "source": [
    "Build the pipeline and run your solution on all test_images. Make copies into the test_images directory, and you can use the images in your writeup report.\n",
    "\n",
    "Try tuning the various parameters, especially the low and high Canny thresholds as well as the Hough lines parameters."
   ]
  },
  {
   "cell_type": "code",
   "execution_count": null,
   "metadata": {
    "collapsed": false,
    "deletable": true,
    "editable": true
   },
   "outputs": [],
   "source": [
    "import traceback\n",
    "\n",
    "def image_processing_pipeline(input_image):\n",
    "    try:\n",
    "        # get the dimensions of the image\n",
    "        ysize = input_image.shape[0]\n",
    "        xsize = input_image.shape[1]\n",
    "        \n",
    "        # convert the images into grey scale\n",
    "        gray = grayscale(input_image)\n",
    "        if prj_globals.is_debug():\n",
    "            plt.imshow(gray, cmap='gray')\n",
    "            plt.show()\n",
    "\n",
    "        # not the the image has been converted into grey scale, get \n",
    "        # edges from the images. Use canny edge algorightm. Appy gausian\n",
    "        # blur before applying the canny edge detection.\n",
    "\n",
    "        # get canny parameters\n",
    "        kernel_size, low_threshold, high_threshold = prj_globals.get_canny_thresholds()\n",
    "        \n",
    "        # Define a kernel size and apply Gaussian smoothing\n",
    "        blur_gray = gaussian_blur(gray, kernel_size)\n",
    "        if prj_globals.is_debug():\n",
    "            plt.imshow(blur_gray, cmap='gray')\n",
    "            plt.show()\n",
    "\n",
    "        # Define our parameters for Canny and apply\n",
    "        edges = canny(blur_gray, low_threshold, high_threshold)\n",
    "        if prj_globals.is_debug():\n",
    "            plt.imshow(edges)\n",
    "            plt.show()\n",
    "\n",
    "        # Define a rectangle region of interest for masking the edges \n",
    "        # which are of interest\n",
    "        ratio = 1 / (prj_globals.ratio)\n",
    "        regions = [\n",
    "                    (100, ysize),\n",
    "                    ((1 - ratio) * xsize, ratio * ysize),\n",
    "                    (ratio * xsize, ratio * ysize),\n",
    "                    (xsize, ysize)\n",
    "                   ]\n",
    "\n",
    "        if prj_globals.is_debug():\n",
    "            print (regions)\n",
    "\n",
    "        vertices = np.array([regions], np.int32)\n",
    "        masked_edges = region_of_interest(edges, vertices)\n",
    "        if prj_globals.is_debug():\n",
    "            plt.imshow(masked_edges)\n",
    "            plt.show()\n",
    "        \n",
    "        # get the hogh line parameters\n",
    "        rho, theta, threshold, min_line_length,max_line_gap = prj_globals.get_hough_line_thresholds()\n",
    "        \n",
    "        lines_image = hough_lines(masked_edges, rho, theta, threshold, min_line_length, max_line_gap)\n",
    "        if prj_globals.is_debug():\n",
    "            plt.imshow(lines_image)\n",
    "            plt.show()\n",
    "\n",
    "        lines_edges = weighted_img(lines_image, input_image)\n",
    "        if prj_globals.is_debug():\n",
    "            plt.imshow(lines_edges)\n",
    "            plt.show()\n",
    "    except:\n",
    "        # in case of failure return the original image\n",
    "        traceback.print_exc()\n",
    "        return input_image\n",
    "\n",
    "    return lines_edges\n",
    "    \n",
    "for input_img in os.listdir('test_images/'):\n",
    "    if input_img.startswith(\".\"):\n",
    "        continue\n",
    "\n",
    "    prj_globals.reset()\n",
    "    # Read the input image\n",
    "    image = mpimg.imread('test_images/%s' % input_img)\n",
    "    # print the image name and statistics\n",
    "    if prj_globals.is_debug():\n",
    "        print('This image is:', input_img , 'type(', type(image), ') with dimesions:', image.shape)\n",
    "\n",
    "    # show the current image\n",
    "    plt.imshow(image)\n",
    "    plt.show()\n",
    "    \n",
    "    result = image_processing_pipeline(image)\n",
    "    plt.imshow(result)\n",
    "    plt.show()\n",
    "    #plt.savefig(\"final/%s\" % input_img)"
   ]
  },
  {
   "cell_type": "markdown",
   "metadata": {
    "deletable": true,
    "editable": true
   },
   "source": [
    "## Test on Videos\n",
    "\n",
    "You know what's cooler than drawing lanes over images? Drawing lanes over video!\n",
    "\n",
    "We can test our solution on two provided videos:\n",
    "\n",
    "`solidWhiteRight.mp4`\n",
    "\n",
    "`solidYellowLeft.mp4`\n",
    "\n",
    "**Note: if you get an `import error` when you run the next cell, try changing your kernel (select the Kernel menu above --> Change Kernel).  Still have problems?  Try relaunching Jupyter Notebook from the terminal prompt. Also, check out [this forum post](https://carnd-forums.udacity.com/questions/22677062/answers/22677109) for more troubleshooting tips.**\n",
    "\n",
    "**If you get an error that looks like this:**\n",
    "```\n",
    "NeedDownloadError: Need ffmpeg exe. \n",
    "You can download it by calling: \n",
    "imageio.plugins.ffmpeg.download()\n",
    "```\n",
    "**Follow the instructions in the error message and check out [this forum post](https://carnd-forums.udacity.com/display/CAR/questions/26218840/import-videofileclip-error) for more troubleshooting tips across operating systems.**"
   ]
  },
  {
   "cell_type": "code",
   "execution_count": null,
   "metadata": {
    "collapsed": true,
    "deletable": true,
    "editable": true
   },
   "outputs": [],
   "source": [
    "# Import everything needed to edit/save/watch video clips\n",
    "from moviepy.editor import VideoFileClip\n",
    "from IPython.display import HTML"
   ]
  },
  {
   "cell_type": "code",
   "execution_count": null,
   "metadata": {
    "collapsed": true,
    "deletable": true,
    "editable": true
   },
   "outputs": [],
   "source": [
    "def process_image(image):\n",
    "    # NOTE: The output you return should be a color image (3 channel) for processing video below\n",
    "    # TODO: put your pipeline here,\n",
    "    # you should return the final output (image where lines are drawn on lanes)\n",
    "    result = image_processing_pipeline(image)\n",
    "    return result"
   ]
  },
  {
   "cell_type": "markdown",
   "metadata": {
    "deletable": true,
    "editable": true
   },
   "source": [
    "Let's try the one with the solid white lane on the right first ..."
   ]
  },
  {
   "cell_type": "code",
   "execution_count": null,
   "metadata": {
    "collapsed": false,
    "deletable": true,
    "editable": true
   },
   "outputs": [],
   "source": [
    "prj_globals.reset()\n",
    "\n",
    "white_output = 'white.mp4'\n",
    "clip1 = VideoFileClip(\"solidWhiteRight.mp4\")\n",
    "white_clip = clip1.fl_image(process_image) #NOTE: this function expects color images!!\n",
    "%time white_clip.write_videofile(white_output, audio=False)"
   ]
  },
  {
   "cell_type": "markdown",
   "metadata": {
    "deletable": true,
    "editable": true
   },
   "source": [
    "Play the video inline, or if you prefer find the video in your filesystem (should be in the same directory) and play it in your video player of choice."
   ]
  },
  {
   "cell_type": "code",
   "execution_count": null,
   "metadata": {
    "collapsed": false,
    "deletable": true,
    "editable": true
   },
   "outputs": [],
   "source": [
    "HTML(\"\"\"\n",
    "<video width=\"960\" height=\"540\" controls>\n",
    "  <source src=\"{0}\">\n",
    "</video>\n",
    "\"\"\".format(white_output))"
   ]
  },
  {
   "cell_type": "markdown",
   "metadata": {
    "deletable": true,
    "editable": true
   },
   "source": [
    "## Improve the draw_lines() function\n",
    "\n",
    "**At this point, if you were successful with making the pipeline and tuning parameters, you probably have the Hough line segments drawn onto the road, but what about identifying the full extent of the lane and marking it clearly as in the example video (P1_example.mp4)?  Think about defining a line to run the full length of the visible lane based on the line segments you identified with the Hough Transform. As mentioned previously, try to average and/or extrapolate the line segments you've detected to map out the full extent of the lane lines. You can see an example of the result you're going for in the video \"P1_example.mp4\".**\n",
    "\n",
    "**Go back and modify your draw_lines function accordingly and try re-running your pipeline. The new output should draw a single, solid line over the left lane line and a single, solid line over the right lane line. The lines should start from the bottom of the image and extend out to the top of the region of interest.**"
   ]
  },
  {
   "cell_type": "markdown",
   "metadata": {
    "deletable": true,
    "editable": true
   },
   "source": [
    "Now for the one with the solid yellow lane on the left. This one's more tricky!"
   ]
  },
  {
   "cell_type": "code",
   "execution_count": null,
   "metadata": {
    "collapsed": false,
    "deletable": true,
    "editable": true
   },
   "outputs": [],
   "source": [
    "prj_globals.reset()\n",
    "\n",
    "yellow_output = 'yellow.mp4'\n",
    "clip2 = VideoFileClip('solidYellowLeft.mp4')\n",
    "yellow_clip = clip2.fl_image(process_image)\n",
    "%time yellow_clip.write_videofile(yellow_output, audio=False)"
   ]
  },
  {
   "cell_type": "code",
   "execution_count": null,
   "metadata": {
    "collapsed": false,
    "deletable": true,
    "editable": true
   },
   "outputs": [],
   "source": [
    "HTML(\"\"\"\n",
    "<video width=\"960\" height=\"540\" controls>\n",
    "  <source src=\"{0}\">\n",
    "</video>\n",
    "\"\"\".format(yellow_output))"
   ]
  },
  {
   "cell_type": "markdown",
   "metadata": {
    "deletable": true,
    "editable": true
   },
   "source": [
    "## Writeup and Submission\n",
    "\n",
    "If you're satisfied with your video outputs, it's time to make the report writeup in a pdf or markdown file. Once you have this Ipython notebook ready along with the writeup, it's time to submit for review! Here is a [link](https://github.com/udacity/CarND-LaneLines-P1/blob/master/writeup_template.md) to the writeup template file.\n"
   ]
  },
  {
   "cell_type": "markdown",
   "metadata": {
    "collapsed": true,
    "deletable": true,
    "editable": true
   },
   "source": [
    "## Optional Challenge\n",
    "\n",
    "Try your lane finding pipeline on the video below.  Does it still work?  Can you figure out a way to make it more robust?  If you're up for the challenge, modify your pipeline so it works with this video and submit it along with the rest of your project!"
   ]
  },
  {
   "cell_type": "code",
   "execution_count": null,
   "metadata": {
    "collapsed": false,
    "deletable": true,
    "editable": true
   },
   "outputs": [],
   "source": [
    "prj_globals.reset()\n",
    "\n",
    "challenge_output = 'extra.mp4'\n",
    "clip2 = VideoFileClip('challenge.mp4')\n",
    "challenge_clip = clip2.fl_image(process_image)\n",
    "%time challenge_clip.write_videofile(challenge_output, audio=False)"
   ]
  },
  {
   "cell_type": "code",
   "execution_count": null,
   "metadata": {
    "collapsed": false,
    "deletable": true,
    "editable": true
   },
   "outputs": [],
   "source": [
    "HTML(\"\"\"\n",
    "<video width=\"960\" height=\"540\" controls>\n",
    "  <source src=\"{0}\">\n",
    "</video>\n",
    "\"\"\".format(challenge_output))"
   ]
  }
 ],
 "metadata": {
  "anaconda-cloud": {},
  "kernelspec": {
   "display_name": "Python 3",
   "language": "python",
   "name": "python3"
  },
  "language_info": {
   "codemirror_mode": {
    "name": "ipython",
    "version": 3
   },
   "file_extension": ".py",
   "mimetype": "text/x-python",
   "name": "python",
   "nbconvert_exporter": "python",
   "pygments_lexer": "ipython3",
   "version": "3.5.2"
  },
  "widgets": {
   "state": {},
   "version": "1.1.2"
  }
 },
 "nbformat": 4,
 "nbformat_minor": 0
}
